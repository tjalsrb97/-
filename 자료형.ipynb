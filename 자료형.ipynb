{
 "cells": [
  {
   "cell_type": "code",
   "execution_count": 1,
   "metadata": {},
   "outputs": [
    {
     "name": "stdout",
     "output_type": "stream",
     "text": [
      "1000\n",
      "-7\n",
      "0\n"
     ]
    }
   ],
   "source": [
    "#수 자료형\n",
    "#정수형\n",
    "a = 1000\n",
    "print(a)\n",
    "\n",
    "a=-7\n",
    "print(a)\n",
    "\n",
    "a=0\n",
    "print(a)"
   ]
  },
  {
   "cell_type": "code",
   "execution_count": 3,
   "metadata": {},
   "outputs": [
    {
     "name": "stdout",
     "output_type": "stream",
     "text": [
      "157.93\n",
      "-1837.2\n",
      "5.0\n",
      "-0.7\n",
      "1000000000.0\n"
     ]
    }
   ],
   "source": [
    "#실수형\n",
    "a = 157.93\n",
    "print(a)\n",
    "\n",
    "a=-1837.2\n",
    "print(a)\n",
    "\n",
    "a=5.\n",
    "print(a)\n",
    "\n",
    "a=-.7\n",
    "print(a)\n",
    "\n",
    "a=1e9\n",
    "print(a)"
   ]
  },
  {
   "cell_type": "code",
   "execution_count": 5,
   "metadata": {},
   "outputs": [
    {
     "name": "stdout",
     "output_type": "stream",
     "text": [
      "752.5\n",
      "3.945\n"
     ]
    }
   ],
   "source": [
    "#지수표현\n",
    "a = 75.25e1\n",
    "print(a)\n",
    "\n",
    "a=3945e-3\n",
    "print(a)"
   ]
  },
  {
   "cell_type": "code",
   "execution_count": 6,
   "metadata": {},
   "outputs": [
    {
     "name": "stdout",
     "output_type": "stream",
     "text": [
      "0.8999999999999999\n",
      "False\n"
     ]
    }
   ],
   "source": [
    "#정확한 실수 표현 불가\n",
    "a=0.3+0.6\n",
    "print(a)\n",
    "\n",
    "if a == 0.9:\n",
    "    print(True)\n",
    "else:\n",
    "    print(False)"
   ]
  },
  {
   "cell_type": "code",
   "execution_count": 7,
   "metadata": {},
   "outputs": [
    {
     "name": "stdout",
     "output_type": "stream",
     "text": [
      "0.9\n",
      "True\n"
     ]
    }
   ],
   "source": [
    "#반올림\n",
    "a=0.3 + 0.6\n",
    "print(round(a, 4))\n",
    "\n",
    "if round(a, 4) == 0.9:\n",
    "    print(True)\n",
    "else:\n",
    "    print(False)"
   ]
  },
  {
   "cell_type": "code",
   "execution_count": 9,
   "metadata": {},
   "outputs": [
    {
     "name": "stdout",
     "output_type": "stream",
     "text": [
      "2.3333333333333335\n",
      "1\n",
      "2\n",
      "343\n"
     ]
    }
   ],
   "source": [
    "#수자료형의 연산\n",
    "a=7\n",
    "b=3\n",
    "\n",
    "#나누기\n",
    "print(a/b)\n",
    "#나머지\n",
    "print(a%b)\n",
    "#몫\n",
    "print(a//b)\n",
    "#거듭제곱\n",
    "print(a**b)"
   ]
  },
  {
   "cell_type": "code",
   "execution_count": 11,
   "metadata": {},
   "outputs": [
    {
     "name": "stdout",
     "output_type": "stream",
     "text": [
      "[1, 2, 3, 4, 5, 6, 7, 8, 9]\n",
      "5\n",
      "[]\n",
      "[]\n"
     ]
    }
   ],
   "source": [
    "#리스트 자료형\n",
    "a = [1, 2, 3, 4, 5, 6, 7, 8, 9]\n",
    "print(a)\n",
    "\n",
    "print(a[4])\n",
    "\n",
    "#리스트 선언방법\n",
    "a = list()\n",
    "print(a)\n",
    "\n",
    "a = []\n",
    "print(a)"
   ]
  },
  {
   "cell_type": "code",
   "execution_count": 23,
   "metadata": {},
   "outputs": [
    {
     "name": "stdout",
     "output_type": "stream",
     "text": [
      "[0, 0, 0, 0, 0, 0, 0, 0, 0, 0]\n",
      "9\n",
      "7\n",
      "[1, 2, 3, 7, 5, 6, 7, 8, 9]\n",
      "[2, 3, 4]\n",
      "[1, 3, 5, 7, 9, 11, 13, 15, 17, 19]\n",
      "[1, 4, 9, 16, 25, 36, 49, 64, 81]\n",
      "[[0, 0, 0, 0], [0, 0, 0, 0], [0, 0, 0, 0]]\n",
      "[[0, 0, 0, 0], [0, 0, 0, 0], [0, 0, 0, 0]]\n",
      "[[0, 5, 0, 0], [0, 5, 0, 0], [0, 5, 0, 0]]\n"
     ]
    }
   ],
   "source": [
    "#리스트 0으로 초기화\n",
    "n = 10\n",
    "a = [0] * n\n",
    "print(a)\n",
    "\n",
    "#리스트 인덱싱과 슬라이싱\n",
    "a = [1, 2, 3, 4, 5, 6, 7, 8, 9]\n",
    "print(a[-1])\n",
    "print(a[-3])\n",
    "a[3] = 7\n",
    "print(a)\n",
    "a = [1, 2, 3, 4, 5, 6, 7, 8, 9]\n",
    "print(a[1:4])\n",
    "\n",
    "#리스트 컴프리헨션\n",
    "array = [i for i in range(20) if i%2 == 1]\n",
    "print(array)\n",
    "array = [i*i for i in range(1,10)]\n",
    "print(array)\n",
    "\n",
    "#N X M 2차원 리스트\n",
    "n=3\n",
    "m=4\n",
    "array = [[0] * m for _ in range(n)]\n",
    "print(array)\n",
    "array = [[0]*m]*n\n",
    "print(array)\n",
    "array[1][1]=5\n",
    "print(array) #내부적으로 포함된 3개의 리스트가 모두 동일한 객체에 대한 3개의 레퍼런스로 인식 => 리스트 컴프리헨션해야함."
   ]
  },
  {
   "cell_type": "code",
   "execution_count": 24,
   "metadata": {},
   "outputs": [
    {
     "name": "stdout",
     "output_type": "stream",
     "text": [
      "기본 리스트:  [1, 4, 3]\n",
      "삽입:  [1, 4, 3, 2]\n",
      "오름차순 정렬:  [1, 2, 3, 4]\n",
      "내림차순 정렬:  [4, 3, 2, 1]\n",
      "원소 뒤집기:  [1, 2, 3, 4]\n",
      "인덱스 2에 3 추가:  [1, 2, 3, 3, 4]\n",
      "값이 3인 데이터 개수:  2\n",
      "값이 1인 데이터 삭제:  [2, 3, 3, 4]\n"
     ]
    }
   ],
   "source": [
    "a = [1, 4, 3]\n",
    "print(\"기본 리스트: \", a)\n",
    "\n",
    "a.append(2)\n",
    "print(\"삽입: \", a)\n",
    "a.sort()\n",
    "print(\"오름차순 정렬: \", a)\n",
    "a.sort(reverse = True)\n",
    "print(\"내림차순 정렬: \", a)\n",
    "a.reverse()\n",
    "print(\"원소 뒤집기: \", a)\n",
    "a.insert(2, 3)\n",
    "print(\"인덱스 2에 3 추가: \", a)\n",
    "print(\"값이 3인 데이터 개수: \", a.count(3))\n",
    "a.remove(1)\n",
    "print(\"값이 1인 데이터 삭제: \", a)"
   ]
  },
  {
   "cell_type": "code",
   "execution_count": 25,
   "metadata": {},
   "outputs": [
    {
     "name": "stdout",
     "output_type": "stream",
     "text": [
      "[1, 2, 4]\n"
     ]
    }
   ],
   "source": [
    "a=[1,2,3,4,5,5,5]\n",
    "remove_set={3, 5}\n",
    "\n",
    "#remove_set에 포함되지 않은 값만을 저장\n",
    "result = [i for i in a if i not in remove_set]\n",
    "print(result)"
   ]
  },
  {
   "cell_type": "code",
   "execution_count": 30,
   "metadata": {},
   "outputs": [
    {
     "name": "stdout",
     "output_type": "stream",
     "text": [
      "Hello World\n",
      "Don't you know \"Python\"?\n",
      "Hello World\n",
      "StringStringString\n",
      "CD\n"
     ]
    }
   ],
   "source": [
    "#문자열\n",
    "data = 'Hello World'\n",
    "print(data)\n",
    "data = \"Don't you know \\\"Python\\\"?\"\n",
    "print(data)\n",
    "\n",
    "a = \"Hello\"\n",
    "b = \"World\"\n",
    "print(a+\" \"+b)\n",
    "a = \"String\"\n",
    "print(a*3)\n",
    "a=\"ABCDEF\"\n",
    "print(a[2:4])"
   ]
  },
  {
   "cell_type": "code",
   "execution_count": 31,
   "metadata": {},
   "outputs": [
    {
     "name": "stdout",
     "output_type": "stream",
     "text": [
      "(1, 2, 3, 4)\n"
     ]
    },
    {
     "ename": "TypeError",
     "evalue": "'tuple' object does not support item assignment",
     "output_type": "error",
     "traceback": [
      "\u001b[1;31m---------------------------------------------------------------------------\u001b[0m",
      "\u001b[1;31mTypeError\u001b[0m                                 Traceback (most recent call last)",
      "\u001b[1;32m<ipython-input-31-97331f7ca673>\u001b[0m in \u001b[0;36m<module>\u001b[1;34m\u001b[0m\n\u001b[0;32m      2\u001b[0m \u001b[0ma\u001b[0m\u001b[1;33m=\u001b[0m\u001b[1;33m(\u001b[0m\u001b[1;36m1\u001b[0m\u001b[1;33m,\u001b[0m\u001b[1;36m2\u001b[0m\u001b[1;33m,\u001b[0m\u001b[1;36m3\u001b[0m\u001b[1;33m,\u001b[0m\u001b[1;36m4\u001b[0m\u001b[1;33m)\u001b[0m\u001b[1;33m\u001b[0m\u001b[1;33m\u001b[0m\u001b[0m\n\u001b[0;32m      3\u001b[0m \u001b[0mprint\u001b[0m\u001b[1;33m(\u001b[0m\u001b[0ma\u001b[0m\u001b[1;33m)\u001b[0m\u001b[1;33m\u001b[0m\u001b[1;33m\u001b[0m\u001b[0m\n\u001b[1;32m----> 4\u001b[1;33m \u001b[0ma\u001b[0m\u001b[1;33m[\u001b[0m\u001b[1;36m2\u001b[0m\u001b[1;33m]\u001b[0m\u001b[1;33m=\u001b[0m\u001b[1;36m7\u001b[0m\u001b[1;33m\u001b[0m\u001b[1;33m\u001b[0m\u001b[0m\n\u001b[0m",
      "\u001b[1;31mTypeError\u001b[0m: 'tuple' object does not support item assignment"
     ]
    }
   ],
   "source": [
    "#튜플 자료형\n",
    "a=(1,2,3,4)\n",
    "print(a)\n",
    "\n",
    "a[2]=7#오류가 나는데 튜플은 대입 연산자를 사용하여 값을 변경할 수 없다. 튜플은 주로 주로 그래프 알고리즘에 자주 사용된다."
   ]
  },
  {
   "cell_type": "code",
   "execution_count": 38,
   "metadata": {},
   "outputs": [
    {
     "name": "stdout",
     "output_type": "stream",
     "text": [
      "{'사과': 'Apple', '바나나': 'Banana', '코코넛': 'Coconut'}\n",
      "'사과'를 키로 가지는 데이터가 존재합니다.\n",
      "dict_keys(['사과', '바나나', '코코넛'])\n",
      "dict_values(['Apple', 'Banana', 'Coconut'])\n",
      "Apple\n",
      "Banana\n",
      "Coconut\n"
     ]
    }
   ],
   "source": [
    "#사전 자료형 => 해시테이블로 사용\n",
    "data = dict()\n",
    "data['사과'] = 'Apple'\n",
    "data['바나나'] = 'Banana'\n",
    "data['코코넛'] = 'Coconut'\n",
    "\n",
    "print(data)\n",
    "if '사과' in data:\n",
    "    print(\"'사과'를 키로 가지는 데이터가 존재합니다.\")\n",
    "key_list = data.keys()\n",
    "value_list = data.values()\n",
    "print(key_list)\n",
    "print(value_list)\n",
    "\n",
    "for key in key_list:\n",
    "    print(data[key])"
   ]
  },
  {
   "cell_type": "code",
   "execution_count": 42,
   "metadata": {},
   "outputs": [
    {
     "name": "stdout",
     "output_type": "stream",
     "text": [
      "{1, 2, 3, 4, 5}\n",
      "{1, 2, 3, 4, 5}\n",
      "{1, 2, 3, 4, 5, 6, 7}\n",
      "{3, 4, 5}\n",
      "{1, 2}\n",
      "{1, 2, 3}\n",
      "{1, 2, 3, 4}\n",
      "{1, 2, 3, 4, 5, 6}\n",
      "{1, 2, 4, 5, 6}\n"
     ]
    }
   ],
   "source": [
    "#집합 자료형\n",
    "data = set([1,1,2,3,4,4,5])\n",
    "print(data)\n",
    "\n",
    "data = {1,1,2,3,4,4,5}\n",
    "print(data)\n",
    "\n",
    "a = set([1,2,3,4,5])\n",
    "b = set([3,4,5,6,7])\n",
    "\n",
    "print(a | b)\n",
    "print(a & b)\n",
    "print(a - b)\n",
    "\n",
    "data = set([1,2,3])\n",
    "print(data)\n",
    "\n",
    "data.add(4) #1개 추가\n",
    "print(data)\n",
    "data.update([5,6]) #여러개 추가\n",
    "print(data)\n",
    "data.remove(3) #제거\n",
    "print(data)"
   ]
  },
  {
   "cell_type": "code",
   "execution_count": null,
   "metadata": {},
   "outputs": [],
   "source": []
  },
  {
   "cell_type": "code",
   "execution_count": null,
   "metadata": {},
   "outputs": [],
   "source": []
  }
 ],
 "metadata": {
  "kernelspec": {
   "display_name": "Python 3",
   "language": "python",
   "name": "python3"
  },
  "language_info": {
   "codemirror_mode": {
    "name": "ipython",
    "version": 3
   },
   "file_extension": ".py",
   "mimetype": "text/x-python",
   "name": "python",
   "nbconvert_exporter": "python",
   "pygments_lexer": "ipython3",
   "version": "3.7.7"
  }
 },
 "nbformat": 4,
 "nbformat_minor": 4
}
